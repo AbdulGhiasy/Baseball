{
 "cells": [
  {
   "cell_type": "markdown",
   "metadata": {},
   "source": [
    "# Introduction to baseball #\n",
    "\n",
    "If you're not familiar with baseball, here's a few video that explains the basics of the game.\n",
    "\n",
    "<a href=\"https://www.youtube.com/watch?v=I8VGW0C_GO4\" target=\"_blank\">Baseball explained in 5 minutes</a>\n",
    "\n",
    "## Game overview ##\n",
    "The game consists of 9 innings, usually\n",
    "Both teams get to bat each inning\n",
    "A team's at-bat is over when they get 3 outs in an inning.\n",
    "In Major League Baseball, there are two leagues - the National League and the American League, and they have slightly different rules.\n",
    "\n",
    "## Defensive details ##\n",
    "There are 25 players on each team. There are 9 defensive positions:\n",
    "1. Pitcher\n",
    "2. Catcher\n",
    "3. First base\n",
    "4. Second base\n",
    "5. Third base\n",
    "6. Shortstop\n",
    "7. Left field\n",
    "8. Center field\n",
    "9. Right field\n",
    "\n",
    "A team typically uses multiple pitchers in a game. There is a pitcher who starts the game, called the starting pitcher, and there are relief pitchers, pitchers who replace the starting pitcher late in the game. The other players, called position players, typically play the whole game, but not always. They can be replaced at any time by a bench player, an extra player who didn't start the game. \n",
    "### Pitching ###\n",
    "The pitcher throws the ball to home plate for the batter to hit. If the pitch crosses home plate and is between the batters knees and chest, it is in the strikezone and should be called a strike. If the pitch is outside this zone, the pitch is a ball, and hopefully the umpire calls it a ball. If the batter gets three strikes, either by pitches in the zone that he doesn't swing at, or pitches anywhere that he swings at and misses, then he's out. If the batter gets four balls, he gets a walk and can go to first base.\n",
    "\n",
    "## Offensive details ##\n",
    "All players who play defensive get a chance to bat in the National League. For the American League, pitchers don't bat. Each team has a batting order, which is the order in which batters are expected to come to bat. When a player comes up to bat, his objective is to get on base. The objective of the defense is to get the batter out. \n",
    "\n",
    "A batter typically gets on base through:\n",
    "* A Hit -single, double, triple, homerun\n",
    "* A Walk\n",
    "* Getting hit by the pitch\n",
    "* Defensive error\n",
    "* Fielder's choice\n",
    "\n",
    "# Common baseball statistics #\n",
    "Do statistics help us predict the future? Here's what someone at FanGraphs had to say: <a href=\"https://library.fangraphs.com/the-beginners-guide-to-understanding-descriptive-and-predictive-stats/\" target=\"_blank\">Descriptive vs. predictive statistics</a>.\n",
    "\n",
    "## Offensive statistics ##\n",
    "### Counting statistics ###\n",
    "Count the number of times an event occurred. Here are some of the most common events that we count and include in other more complicated statistics.\n",
    "* **At-bat (AB)** - a plate-appearance that ends with an out, fielder's choice, hit, or error. Doesn't include walks, sacrifice, hit-by-pitch.\n",
    "* **Hit (H)** - batter reaches base by contacting the ball and there isn't an error or fielder's choice. Hits include singles (1B), doubles (2B), triples (3B), or homeruns (H).\n",
    "* **Plate appearances (PA)** - number of times a batter came to the plate and produced an outcome. If there is a caught stealing during a plate appearance and it ends the inning, the batter doesn't get credit for the plate appearance.\n",
    "* **Runs batted in (RBI)** - a plate-appearance results in a run scoring where there wasn't an error and the batter didn't ground into a double play.\n",
    "* **Stolen bases (SB)** - base runner moves from one base to the next while another player is up to bat and the ball has not been put into play by the batter. The number of times that a player is caught stealing is also counted.\n",
    "* **Strike-out (K)** - batter swings at 3 pitches and doesn't make contact, or hits the ball foul on the first 2 strikes.\n",
    "* **Walk (BB)** - batter goes to first base after pitcher throws 4 pitches out of the strike zone and the batter doesn't swing.\n",
    "\n",
    "### Descriptive statistics ###\n",
    "Provide a summary of the data.\n",
    "* **Batting average (BA)** - hits / AB. Notice that anything not included in AB is also not considered in BA. League BA is typically around 0.267. Even back in 1880 people made fun of BA as a statistic.\n",
    "* **On-base percentage (OBP)** - captures how frequently a player gets on base by a hit, walk, or getting hit by the pitch. \n",
    "\n",
    "$$OBP=\\frac{H+BB+HBP}{PA}$$\n",
    "\n",
    "* **Slugging percentage (SLG)** - captures the number of bases a player records per AB. \n",
    "\n",
    "$$SLG=\\frac{1B + 2Bx2 + 3Bx3 + HRx4}{AB}$$.\n",
    "\n",
    "* **On-base plus slugging (OPS)** - combines power and on-base statistics.\n",
    "\n",
    "$$OPS = OBP + SLG$$\n",
    "\n",
    "* **Batting average on balls in play (BABIP)** - measures how often a ball put in play results in a hit. The league average is about 0.300. A ball “in play” includes everything that isn't a strikeout, walk, hit batter, catcher’s interference, sacrifice bunt, or home run. This is a controversial statistic because for a long time, people thought pitchers had more control over babip than they actually do. <a href=\"https://library.fangraphs.com/pitching/babip/\" target=\"_blank\">BABIP Explained by FanGraphs</a> The babip formula is:\n",
    "$$BABIP=\\frac{H-HR}{AB-K-HR+SF}$$\n",
    "\n",
    "* **Weighted on-base average (WOBA)** - applies linear weights to offensive events to reflect observed contribution to run scoring. Linear weights change slightly every year to consider the run-scoring environment that year. Results are scaled to be similar to OBP. For 2018, the woba formula was:\n",
    "\n",
    "$$wOBA=\\frac{0.69*NIBB + 0.72*HBP + 0.88*1B + 1.247*2B + 1.578*3B +\n",
    "2.031*HR}{AB + NIBB + SF + HBP}$$\n",
    "\n",
    "* **Wins above replacement (WAR)** - how many wins does a player contribute above what a replacement player would contribute. Replacement is a league-minimum player, or minor league replacement. This calculation includes both offensive and defensive contributions. We'll talk more about it at a later time. \n",
    "\n",
    "## Defensive statistics ##\n",
    "### Pitching ###\n",
    "#### Counting statistics ####\n",
    "* **Wins (W)** - number of games where pitcher left the game with the lead, team won the game, and pitcher completed at least 5 innings.\n",
    "* **Losses (L)**- number of games where pitcher left game and team was losing and team didn't at least even up the score. There is no minimum number of innings that pitcher needs to complete to earn a loss.\n",
    "* **Strikeouts** - how many batters did pitcher strikeout so far in a season.\n",
    "* **W, H, R, etc** - how many walks, hits, runs, and so on has the pitcher given up this season.\n",
    "* **Innings pitched (IP)** - each out recorded is 1/3 of an inning. Three outs recorded is one inning pitched.\n",
    "\n",
    "#### Descriptive statistics ####\n",
    "* **Earned Run Average (ERA)** - number of earned runs a pitcher allows per nine innings. An earned run is a run that didn't result from a fielding error. The formula is: \n",
    "\n",
    "$$ERA = \\frac{9 * earned runs}{innings pitched}$$\n",
    "* **Fielding independent pitching (FIP)** - captures a pitcher's performance independent of actions involving the defense. Defense varies team to team, season to season, day to day, park to park. Only includes outcomes that are \"entirely\" the pitcher's fault, by some definition of fault. <a href=\"https://library.fangraphs.com/pitching/fip/\" target=\"_blank\">FIP Explained by FanGraphs</a>\n",
    "\n",
    "$$FIP=\\frac{13*HR+3*(HBP+BB)-2*K}{IP}+c$$, $$c\\approx3.2$$\n",
    "\n",
    "### Fielding ###\n",
    "* **Errors (E)** - fielder doesn't generate an out on a play that an average fielder would make. For example, ground ball to the shortstop that goes between his legs, or an overthrow to first base.\n",
    "* **Double plays (DP)** - defense generates two outs on a play. For example, ground ball to shortstop that goes to second and then first that gets runners out at second and first. Can be misleading as statistic of defensive quality because having a lot of DP means that a team lets a lot of runners get on base.\n",
    "* **Defensive efficiency ratio (DER)** - measures how effective a defense is at recording an out on a ball put in play.\n",
    "$$DER=1-\\frac{(H + ROE - HR)}{(PA - BB - SO - HBP - HR)}$$\n",
    "\n",
    "\n"
   ]
  },
  {
   "cell_type": "markdown",
   "metadata": {},
   "source": [
    "# In-class assignment and discussion #\n",
    "Working with people at your table, or alone, respond to the following questions. Your answers are due before class on Wednesday. \n",
    "1. Why is SLG an imperfect measure of how a hit contributes to run production?"
   ]
  },
  {
   "cell_type": "markdown",
   "metadata": {},
   "source": []
  },
  {
   "cell_type": "markdown",
   "metadata": {},
   "source": [
    "2. What factors contribute to a player's RBI total that have nothing to do with the player's ability?\n"
   ]
  },
  {
   "cell_type": "markdown",
   "metadata": {},
   "source": []
  },
  {
   "cell_type": "markdown",
   "metadata": {},
   "source": [
    "3. Player A and Player B are both shortstops being considered for an award for defensive ability. Player A has 1 error in 200 chances and Player B has 3 errors for the same number of chances. Can we say definitively that Player A is better than Player B?\n"
   ]
  },
  {
   "cell_type": "markdown",
   "metadata": {},
   "source": []
  },
  {
   "cell_type": "markdown",
   "metadata": {},
   "source": [
    "4. How can a team's defensive ability affect a pitcher's ERA?"
   ]
  },
  {
   "cell_type": "markdown",
   "metadata": {},
   "source": []
  },
  {
   "cell_type": "markdown",
   "metadata": {},
   "source": [
    "5. What will become of DJ Lemahieu now that he's left the Rockies. Here's what a guy from MLB.com had to say:\n",
    "<a href=\"https://www.mlb.com/news/dj-lemahieu-leaves-coors-field-for-the-bronx/c-302622392\"  target=\"_blank\">DJ we wish you well</a>. Will he be successful in NY? Referencing at least one of the statistics that we covered today, predict whether DJ will find success once he leaves Coors Field. You don't need to do the calculations, just present your thoughts."
   ]
  },
  {
   "cell_type": "markdown",
   "metadata": {},
   "source": []
  },
  {
   "cell_type": "markdown",
   "metadata": {},
   "source": [
    "## Install pybaseball ##\n",
    "Open a terminal and type the following commands to pull the latest pybaseball\n",
    "\n",
    "* git clone https://github.com/jldbc/pybaseball\n",
    "* cd pybaseball\n",
    "* python setup.py install\n",
    "\n",
    "If you're working on Jupyter Lab, you need to restart the server for the changes to work. To test that pybaseball installed correctly, run the following."
   ]
  },
  {
   "cell_type": "code",
   "execution_count": 2,
   "metadata": {},
   "outputs": [
    {
     "ename": "ModuleNotFoundError",
     "evalue": "No module named 'pybaseball'",
     "output_type": "error",
     "traceback": [
      "\u001b[0;31m---------------------------------------------------------------------------\u001b[0m",
      "\u001b[0;31mModuleNotFoundError\u001b[0m                       Traceback (most recent call last)",
      "\u001b[0;32m<ipython-input-2-78e836d333f1>\u001b[0m in \u001b[0;36m<module>\u001b[0;34m\u001b[0m\n\u001b[0;32m----> 1\u001b[0;31m \u001b[0;32mfrom\u001b[0m \u001b[0mpybaseball\u001b[0m \u001b[0;32mimport\u001b[0m \u001b[0mstatcast\u001b[0m\u001b[0;34m\u001b[0m\u001b[0;34m\u001b[0m\u001b[0m\n\u001b[0m\u001b[1;32m      2\u001b[0m \u001b[0mdata\u001b[0m \u001b[0;34m=\u001b[0m \u001b[0mstatcast\u001b[0m\u001b[0;34m(\u001b[0m\u001b[0mstart_dt\u001b[0m\u001b[0;34m=\u001b[0m\u001b[0;34m'2017-06-24'\u001b[0m\u001b[0;34m,\u001b[0m \u001b[0mend_dt\u001b[0m\u001b[0;34m=\u001b[0m\u001b[0;34m'2017-06-27'\u001b[0m\u001b[0;34m)\u001b[0m\u001b[0;34m\u001b[0m\u001b[0;34m\u001b[0m\u001b[0m\n\u001b[1;32m      3\u001b[0m \u001b[0mdata\u001b[0m\u001b[0;34m.\u001b[0m\u001b[0mhead\u001b[0m\u001b[0;34m(\u001b[0m\u001b[0;36m2\u001b[0m\u001b[0;34m)\u001b[0m\u001b[0;34m\u001b[0m\u001b[0;34m\u001b[0m\u001b[0m\n",
      "\u001b[0;31mModuleNotFoundError\u001b[0m: No module named 'pybaseball'"
     ]
    }
   ],
   "source": [
    "from pybaseball import statcast\n",
    "data = statcast(start_dt='2017-06-24', end_dt='2017-06-27')\n",
    "data.head(2)"
   ]
  },
  {
   "cell_type": "markdown",
   "metadata": {},
   "source": [
    "## Lahman Database ##\n",
    "The Lahman database was created by Sean Lahman, and contains pitching, hitting, and fielding statistics for Major League Baseball from 1871 through 2017.  It includes data from the American and National Leagues, as well as other leagues from 1871-1875. \n",
    "\n",
    "The version that we will work with here is a collection of .csv files. The files are all publicly available through several sources, including http://www.seanlahman.com. We're going to access it through the pybaseball Python package.\n",
    "\n",
    "Common offensive and defensive performance metrics\n",
    "\n",
    "\n",
    "A quick query of pybaseball Lahman to display some data"
   ]
  }
 ],
 "metadata": {
  "kernelspec": {
   "display_name": "Python 3",
   "language": "python",
   "name": "python3"
  },
  "language_info": {
   "codemirror_mode": {
    "name": "ipython",
    "version": 3
   },
   "file_extension": ".py",
   "mimetype": "text/x-python",
   "name": "python",
   "nbconvert_exporter": "python",
   "pygments_lexer": "ipython3",
   "version": "3.6.7"
  }
 },
 "nbformat": 4,
 "nbformat_minor": 2
}
